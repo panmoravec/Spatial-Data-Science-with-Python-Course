{
 "cells": [
  {
   "attachments": {},
   "cell_type": "markdown",
   "metadata": {},
   "source": [
    "# Instalace geopandas\n",
    "V pythonu je instalace trochu složitější. Problém je, že se v systému může nacházet více různých python verzí a my chceme nainstalovat balíček právě do té, kterou používáme.\n",
    "Z toho důvodu se využije sys, které vrátí aktuální adresu pythonu\n",
    "Zároveň je dobré používat pip přímo z CMD (příkazového řáku systému). Toho docílíme vykřičníkem (!) který říká, že následující příkaz se má spustit v cmd"
   ]
  },
  {
   "cell_type": "code",
   "execution_count": 8,
   "metadata": {},
   "outputs": [
    {
     "name": "stdout",
     "output_type": "stream",
     "text": [
      "Requirement already satisfied: geopandas in c:\\users\\dmoravec\\appdata\\local\\programs\\python\\python310\\lib\\site-packages (0.12.2)\n",
      "Requirement already satisfied: pandas>=1.0.0 in c:\\users\\dmoravec\\appdata\\local\\programs\\python\\python310\\lib\\site-packages (from geopandas) (1.4.3)\n",
      "Requirement already satisfied: shapely>=1.7 in c:\\users\\dmoravec\\appdata\\local\\programs\\python\\python310\\lib\\site-packages (from geopandas) (2.0.0)\n",
      "Requirement already satisfied: pyproj>=2.6.1.post1 in c:\\users\\dmoravec\\appdata\\local\\programs\\python\\python310\\lib\\site-packages (from geopandas) (3.4.1)\n",
      "Requirement already satisfied: fiona>=1.8 in c:\\users\\dmoravec\\appdata\\local\\programs\\python\\python310\\lib\\site-packages (from geopandas) (1.8.22)\n",
      "Requirement already satisfied: packaging in c:\\users\\dmoravec\\appdata\\local\\programs\\python\\python310\\lib\\site-packages (from geopandas) (21.3)\n",
      "Requirement already satisfied: attrs>=17 in c:\\users\\dmoravec\\appdata\\local\\programs\\python\\python310\\lib\\site-packages (from fiona>=1.8->geopandas) (22.2.0)\n",
      "Requirement already satisfied: click>=4.0 in c:\\users\\dmoravec\\appdata\\local\\programs\\python\\python310\\lib\\site-packages (from fiona>=1.8->geopandas) (8.1.3)\n",
      "Requirement already satisfied: munch in c:\\users\\dmoravec\\appdata\\local\\programs\\python\\python310\\lib\\site-packages (from fiona>=1.8->geopandas) (2.5.0)\n",
      "Requirement already satisfied: click-plugins>=1.0 in c:\\users\\dmoravec\\appdata\\local\\programs\\python\\python310\\lib\\site-packages (from fiona>=1.8->geopandas) (1.1.1)\n",
      "Requirement already satisfied: certifi in c:\\users\\dmoravec\\appdata\\local\\programs\\python\\python310\\lib\\site-packages (from fiona>=1.8->geopandas) (2022.12.7)\n",
      "Requirement already satisfied: cligj>=0.5 in c:\\users\\dmoravec\\appdata\\local\\programs\\python\\python310\\lib\\site-packages (from fiona>=1.8->geopandas) (0.7.2)\n",
      "Requirement already satisfied: six>=1.7 in c:\\users\\dmoravec\\appdata\\local\\programs\\python\\python310\\lib\\site-packages (from fiona>=1.8->geopandas) (1.16.0)\n",
      "Requirement already satisfied: setuptools in c:\\users\\dmoravec\\appdata\\local\\programs\\python\\python310\\lib\\site-packages (from fiona>=1.8->geopandas) (58.1.0)\n",
      "Requirement already satisfied: python-dateutil>=2.8.1 in c:\\users\\dmoravec\\appdata\\local\\programs\\python\\python310\\lib\\site-packages (from pandas>=1.0.0->geopandas) (2.8.2)\n",
      "Requirement already satisfied: pytz>=2020.1 in c:\\users\\dmoravec\\appdata\\local\\programs\\python\\python310\\lib\\site-packages (from pandas>=1.0.0->geopandas) (2022.1)\n",
      "Requirement already satisfied: numpy>=1.21.0 in c:\\users\\dmoravec\\appdata\\local\\programs\\python\\python310\\lib\\site-packages (from pandas>=1.0.0->geopandas) (1.23.1)\n",
      "Requirement already satisfied: pyparsing!=3.0.5,>=2.0.2 in c:\\users\\dmoravec\\appdata\\local\\programs\\python\\python310\\lib\\site-packages (from packaging->geopandas) (3.0.9)\n",
      "Requirement already satisfied: colorama in c:\\users\\dmoravec\\appdata\\local\\programs\\python\\python310\\lib\\site-packages (from click>=4.0->fiona>=1.8->geopandas) (0.4.5)\n"
     ]
    }
   ],
   "source": [
    "import sys\n",
    "import pip\n",
    "!{sys.executable} -m pip install geopandas"
   ]
  },
  {
   "attachments": {},
   "cell_type": "markdown",
   "metadata": {},
   "source": [
    "## přidáme si geopandsas pod zkratku gpd"
   ]
  },
  {
   "cell_type": "code",
   "execution_count": 9,
   "metadata": {},
   "outputs": [],
   "source": [
    "import geopandas as gpd"
   ]
  },
  {
   "cell_type": "code",
   "execution_count": 10,
   "metadata": {},
   "outputs": [],
   "source": [
    "shp = 'C:/Users/dmoravec/Desktop/PythonCourse/1/countries.gpkg'\n",
    "countries = gpd.read_file(shp)"
   ]
  },
  {
   "cell_type": "markdown",
   "metadata": {},
   "source": [
    "#Prohlédnout si data\n",
    "- head(x) zobrazí prvních x řádků\n",
    "- shape zobrazí kolik je tam řádek a sloupců\n",
    "- countries.describe() nám vytvoří základní statistiky objektů"
   ]
  },
  {
   "cell_type": "code",
   "execution_count": 11,
   "metadata": {},
   "outputs": [
    {
     "data": {
      "text/html": [
       "<div>\n",
       "<style scoped>\n",
       "    .dataframe tbody tr th:only-of-type {\n",
       "        vertical-align: middle;\n",
       "    }\n",
       "\n",
       "    .dataframe tbody tr th {\n",
       "        vertical-align: top;\n",
       "    }\n",
       "\n",
       "    .dataframe thead th {\n",
       "        text-align: right;\n",
       "    }\n",
       "</style>\n",
       "<table border=\"1\" class=\"dataframe\">\n",
       "  <thead>\n",
       "    <tr style=\"text-align: right;\">\n",
       "      <th></th>\n",
       "      <th>NAME</th>\n",
       "      <th>POP_EST</th>\n",
       "      <th>POP_RANK</th>\n",
       "      <th>GDP_MD_EST</th>\n",
       "      <th>POP_YEAR</th>\n",
       "      <th>LASTCENSUS</th>\n",
       "      <th>GDP_YEAR</th>\n",
       "      <th>ECONOMY</th>\n",
       "      <th>INCOME_GRP</th>\n",
       "      <th>CONTINENT</th>\n",
       "      <th>geometry</th>\n",
       "    </tr>\n",
       "  </thead>\n",
       "  <tbody>\n",
       "    <tr>\n",
       "      <th>0</th>\n",
       "      <td>Indonesia</td>\n",
       "      <td>260580739</td>\n",
       "      <td>17</td>\n",
       "      <td>3028000.0</td>\n",
       "      <td>2017</td>\n",
       "      <td>2010</td>\n",
       "      <td>2016</td>\n",
       "      <td>4. Emerging region: MIKT</td>\n",
       "      <td>4. Lower middle income</td>\n",
       "      <td>Asia</td>\n",
       "      <td>MULTIPOLYGON (((117.70361 4.16341, 117.70361 4...</td>\n",
       "    </tr>\n",
       "    <tr>\n",
       "      <th>1</th>\n",
       "      <td>Malaysia</td>\n",
       "      <td>31381992</td>\n",
       "      <td>15</td>\n",
       "      <td>863000.0</td>\n",
       "      <td>2017</td>\n",
       "      <td>2010</td>\n",
       "      <td>2016</td>\n",
       "      <td>6. Developing region</td>\n",
       "      <td>3. Upper middle income</td>\n",
       "      <td>Asia</td>\n",
       "      <td>MULTIPOLYGON (((117.70361 4.16341, 117.69711 4...</td>\n",
       "    </tr>\n",
       "  </tbody>\n",
       "</table>\n",
       "</div>"
      ],
      "text/plain": [
       "        NAME    POP_EST  POP_RANK  GDP_MD_EST  POP_YEAR  LASTCENSUS  GDP_YEAR  \\\n",
       "0  Indonesia  260580739        17   3028000.0      2017        2010      2016   \n",
       "1   Malaysia   31381992        15    863000.0      2017        2010      2016   \n",
       "\n",
       "                    ECONOMY              INCOME_GRP CONTINENT  \\\n",
       "0  4. Emerging region: MIKT  4. Lower middle income      Asia   \n",
       "1      6. Developing region  3. Upper middle income      Asia   \n",
       "\n",
       "                                            geometry  \n",
       "0  MULTIPOLYGON (((117.70361 4.16341, 117.70361 4...  \n",
       "1  MULTIPOLYGON (((117.70361 4.16341, 117.69711 4...  "
      ]
     },
     "execution_count": 11,
     "metadata": {},
     "output_type": "execute_result"
    }
   ],
   "source": [
    "countries.head(2)"
   ]
  },
  {
   "cell_type": "code",
   "execution_count": 12,
   "metadata": {},
   "outputs": [
    {
     "data": {
      "text/html": [
       "<div>\n",
       "<style scoped>\n",
       "    .dataframe tbody tr th:only-of-type {\n",
       "        vertical-align: middle;\n",
       "    }\n",
       "\n",
       "    .dataframe tbody tr th {\n",
       "        vertical-align: top;\n",
       "    }\n",
       "\n",
       "    .dataframe thead th {\n",
       "        text-align: right;\n",
       "    }\n",
       "</style>\n",
       "<table border=\"1\" class=\"dataframe\">\n",
       "  <thead>\n",
       "    <tr style=\"text-align: right;\">\n",
       "      <th></th>\n",
       "      <th>POP_EST</th>\n",
       "      <th>POP_RANK</th>\n",
       "      <th>GDP_MD_EST</th>\n",
       "      <th>POP_YEAR</th>\n",
       "      <th>LASTCENSUS</th>\n",
       "      <th>GDP_YEAR</th>\n",
       "    </tr>\n",
       "  </thead>\n",
       "  <tbody>\n",
       "    <tr>\n",
       "      <th>count</th>\n",
       "      <td>2.530000e+02</td>\n",
       "      <td>253.000000</td>\n",
       "      <td>2.530000e+02</td>\n",
       "      <td>253.000000</td>\n",
       "      <td>253.000000</td>\n",
       "      <td>253.000000</td>\n",
       "    </tr>\n",
       "    <tr>\n",
       "      <th>mean</th>\n",
       "      <td>2.927074e+07</td>\n",
       "      <td>11.462451</td>\n",
       "      <td>4.712708e+05</td>\n",
       "      <td>2000.794466</td>\n",
       "      <td>1639.592885</td>\n",
       "      <td>1991.490119</td>\n",
       "    </tr>\n",
       "    <tr>\n",
       "      <th>std</th>\n",
       "      <td>1.234639e+08</td>\n",
       "      <td>3.958562</td>\n",
       "      <td>1.936975e+06</td>\n",
       "      <td>178.959064</td>\n",
       "      <td>799.327438</td>\n",
       "      <td>218.598342</td>\n",
       "    </tr>\n",
       "    <tr>\n",
       "      <th>min</th>\n",
       "      <td>0.000000e+00</td>\n",
       "      <td>1.000000</td>\n",
       "      <td>0.000000e+00</td>\n",
       "      <td>0.000000</td>\n",
       "      <td>-99.000000</td>\n",
       "      <td>0.000000</td>\n",
       "    </tr>\n",
       "    <tr>\n",
       "      <th>25%</th>\n",
       "      <td>1.151200e+05</td>\n",
       "      <td>9.000000</td>\n",
       "      <td>2.851000e+03</td>\n",
       "      <td>2017.000000</td>\n",
       "      <td>2000.000000</td>\n",
       "      <td>2016.000000</td>\n",
       "    </tr>\n",
       "    <tr>\n",
       "      <th>50%</th>\n",
       "      <td>4.510327e+06</td>\n",
       "      <td>12.000000</td>\n",
       "      <td>3.299000e+04</td>\n",
       "      <td>2017.000000</td>\n",
       "      <td>2006.000000</td>\n",
       "      <td>2016.000000</td>\n",
       "    </tr>\n",
       "    <tr>\n",
       "      <th>75%</th>\n",
       "      <td>1.788524e+07</td>\n",
       "      <td>14.000000</td>\n",
       "      <td>1.890000e+05</td>\n",
       "      <td>2017.000000</td>\n",
       "      <td>2010.000000</td>\n",
       "      <td>2016.000000</td>\n",
       "    </tr>\n",
       "    <tr>\n",
       "      <th>max</th>\n",
       "      <td>1.379303e+09</td>\n",
       "      <td>18.000000</td>\n",
       "      <td>2.114000e+07</td>\n",
       "      <td>2017.000000</td>\n",
       "      <td>2012.000000</td>\n",
       "      <td>2016.000000</td>\n",
       "    </tr>\n",
       "  </tbody>\n",
       "</table>\n",
       "</div>"
      ],
      "text/plain": [
       "            POP_EST    POP_RANK    GDP_MD_EST     POP_YEAR   LASTCENSUS  \\\n",
       "count  2.530000e+02  253.000000  2.530000e+02   253.000000   253.000000   \n",
       "mean   2.927074e+07   11.462451  4.712708e+05  2000.794466  1639.592885   \n",
       "std    1.234639e+08    3.958562  1.936975e+06   178.959064   799.327438   \n",
       "min    0.000000e+00    1.000000  0.000000e+00     0.000000   -99.000000   \n",
       "25%    1.151200e+05    9.000000  2.851000e+03  2017.000000  2000.000000   \n",
       "50%    4.510327e+06   12.000000  3.299000e+04  2017.000000  2006.000000   \n",
       "75%    1.788524e+07   14.000000  1.890000e+05  2017.000000  2010.000000   \n",
       "max    1.379303e+09   18.000000  2.114000e+07  2017.000000  2012.000000   \n",
       "\n",
       "          GDP_YEAR  \n",
       "count   253.000000  \n",
       "mean   1991.490119  \n",
       "std     218.598342  \n",
       "min       0.000000  \n",
       "25%    2016.000000  \n",
       "50%    2016.000000  \n",
       "75%    2016.000000  \n",
       "max    2016.000000  "
      ]
     },
     "execution_count": 12,
     "metadata": {},
     "output_type": "execute_result"
    }
   ],
   "source": [
    "countries.describe()"
   ]
  },
  {
   "cell_type": "code",
   "execution_count": 14,
   "metadata": {},
   "outputs": [],
   "source": [
    "cities = gpd.read_file('C:/Users/dmoravec/Desktop/PythonCourse/1/cities.geojson')"
   ]
  },
  {
   "attachments": {},
   "cell_type": "markdown",
   "metadata": {},
   "source": [
    "## zobrazení více výstupů\n",
    "standartně je vždy jeden výstup na jednu buňku kódu. Pokud chci zobrazit více výstupů, musím použít příkaz print a nebo lépe disply from IPython.display import display"
   ]
  },
  {
   "cell_type": "code",
   "execution_count": 15,
   "metadata": {},
   "outputs": [
    {
     "data": {
      "text/html": [
       "<div>\n",
       "<style scoped>\n",
       "    .dataframe tbody tr th:only-of-type {\n",
       "        vertical-align: middle;\n",
       "    }\n",
       "\n",
       "    .dataframe tbody tr th {\n",
       "        vertical-align: top;\n",
       "    }\n",
       "\n",
       "    .dataframe thead th {\n",
       "        text-align: right;\n",
       "    }\n",
       "</style>\n",
       "<table border=\"1\" class=\"dataframe\">\n",
       "  <thead>\n",
       "    <tr style=\"text-align: right;\">\n",
       "      <th></th>\n",
       "      <th>name</th>\n",
       "      <th>worldcity</th>\n",
       "      <th>megacity</th>\n",
       "      <th>latitude</th>\n",
       "      <th>longitude</th>\n",
       "      <th>pop_max</th>\n",
       "      <th>pop_min</th>\n",
       "      <th>pop_other</th>\n",
       "      <th>geometry</th>\n",
       "    </tr>\n",
       "  </thead>\n",
       "  <tbody>\n",
       "    <tr>\n",
       "      <th>0</th>\n",
       "      <td>Colonia del Sacramento</td>\n",
       "      <td>0.0</td>\n",
       "      <td>0</td>\n",
       "      <td>-34.479999</td>\n",
       "      <td>-57.840002</td>\n",
       "      <td>21714</td>\n",
       "      <td>21714</td>\n",
       "      <td>0</td>\n",
       "      <td>POINT (-57.84000 -34.48000)</td>\n",
       "    </tr>\n",
       "    <tr>\n",
       "      <th>1</th>\n",
       "      <td>Trinidad</td>\n",
       "      <td>0.0</td>\n",
       "      <td>0</td>\n",
       "      <td>-33.543999</td>\n",
       "      <td>-56.900997</td>\n",
       "      <td>21093</td>\n",
       "      <td>21093</td>\n",
       "      <td>0</td>\n",
       "      <td>POINT (-56.90100 -33.54400)</td>\n",
       "    </tr>\n",
       "    <tr>\n",
       "      <th>2</th>\n",
       "      <td>Fray Bentos</td>\n",
       "      <td>0.0</td>\n",
       "      <td>0</td>\n",
       "      <td>-33.138999</td>\n",
       "      <td>-58.303997</td>\n",
       "      <td>23279</td>\n",
       "      <td>23279</td>\n",
       "      <td>0</td>\n",
       "      <td>POINT (-58.30400 -33.13900)</td>\n",
       "    </tr>\n",
       "  </tbody>\n",
       "</table>\n",
       "</div>"
      ],
      "text/plain": [
       "                     name  worldcity  megacity   latitude  longitude  pop_max  \\\n",
       "0  Colonia del Sacramento        0.0         0 -34.479999 -57.840002    21714   \n",
       "1                Trinidad        0.0         0 -33.543999 -56.900997    21093   \n",
       "2             Fray Bentos        0.0         0 -33.138999 -58.303997    23279   \n",
       "\n",
       "   pop_min  pop_other                     geometry  \n",
       "0    21714          0  POINT (-57.84000 -34.48000)  \n",
       "1    21093          0  POINT (-56.90100 -33.54400)  \n",
       "2    23279          0  POINT (-58.30400 -33.13900)  "
      ]
     },
     "metadata": {},
     "output_type": "display_data"
    },
    {
     "data": {
      "text/html": [
       "<div>\n",
       "<style scoped>\n",
       "    .dataframe tbody tr th:only-of-type {\n",
       "        vertical-align: middle;\n",
       "    }\n",
       "\n",
       "    .dataframe tbody tr th {\n",
       "        vertical-align: top;\n",
       "    }\n",
       "\n",
       "    .dataframe thead th {\n",
       "        text-align: right;\n",
       "    }\n",
       "</style>\n",
       "<table border=\"1\" class=\"dataframe\">\n",
       "  <thead>\n",
       "    <tr style=\"text-align: right;\">\n",
       "      <th></th>\n",
       "      <th>worldcity</th>\n",
       "      <th>megacity</th>\n",
       "      <th>latitude</th>\n",
       "      <th>longitude</th>\n",
       "      <th>pop_max</th>\n",
       "      <th>pop_min</th>\n",
       "      <th>pop_other</th>\n",
       "    </tr>\n",
       "  </thead>\n",
       "  <tbody>\n",
       "    <tr>\n",
       "      <th>count</th>\n",
       "      <td>7343.000000</td>\n",
       "      <td>7343.000000</td>\n",
       "      <td>7343.000000</td>\n",
       "      <td>7343.000000</td>\n",
       "      <td>7.343000e+03</td>\n",
       "      <td>7.343000e+03</td>\n",
       "      <td>7.343000e+03</td>\n",
       "    </tr>\n",
       "    <tr>\n",
       "      <th>mean</th>\n",
       "      <td>0.009533</td>\n",
       "      <td>0.080349</td>\n",
       "      <td>20.496166</td>\n",
       "      <td>10.987582</td>\n",
       "      <td>3.218734e+05</td>\n",
       "      <td>2.078131e+05</td>\n",
       "      <td>4.137240e+05</td>\n",
       "    </tr>\n",
       "    <tr>\n",
       "      <th>std</th>\n",
       "      <td>0.097177</td>\n",
       "      <td>0.271851</td>\n",
       "      <td>29.263073</td>\n",
       "      <td>79.435193</td>\n",
       "      <td>1.066623e+06</td>\n",
       "      <td>6.414873e+05</td>\n",
       "      <td>1.258383e+06</td>\n",
       "    </tr>\n",
       "    <tr>\n",
       "      <th>min</th>\n",
       "      <td>0.000000</td>\n",
       "      <td>0.000000</td>\n",
       "      <td>-89.982894</td>\n",
       "      <td>-179.589979</td>\n",
       "      <td>-9.900000e+01</td>\n",
       "      <td>-9.900000e+01</td>\n",
       "      <td>0.000000e+00</td>\n",
       "    </tr>\n",
       "    <tr>\n",
       "      <th>25%</th>\n",
       "      <td>0.000000</td>\n",
       "      <td>0.000000</td>\n",
       "      <td>-0.674573</td>\n",
       "      <td>-64.781974</td>\n",
       "      <td>1.947850e+04</td>\n",
       "      <td>1.337000e+04</td>\n",
       "      <td>0.000000e+00</td>\n",
       "    </tr>\n",
       "    <tr>\n",
       "      <th>50%</th>\n",
       "      <td>0.000000</td>\n",
       "      <td>0.000000</td>\n",
       "      <td>26.640298</td>\n",
       "      <td>18.699985</td>\n",
       "      <td>6.945100e+04</td>\n",
       "      <td>5.003200e+04</td>\n",
       "      <td>3.981700e+04</td>\n",
       "    </tr>\n",
       "    <tr>\n",
       "      <th>75%</th>\n",
       "      <td>0.000000</td>\n",
       "      <td>0.000000</td>\n",
       "      <td>43.532008</td>\n",
       "      <td>73.292415</td>\n",
       "      <td>2.297540e+05</td>\n",
       "      <td>1.634720e+05</td>\n",
       "      <td>2.230085e+05</td>\n",
       "    </tr>\n",
       "    <tr>\n",
       "      <th>max</th>\n",
       "      <td>1.000000</td>\n",
       "      <td>1.000000</td>\n",
       "      <td>82.483323</td>\n",
       "      <td>179.383304</td>\n",
       "      <td>3.567600e+07</td>\n",
       "      <td>1.460851e+07</td>\n",
       "      <td>2.145995e+07</td>\n",
       "    </tr>\n",
       "  </tbody>\n",
       "</table>\n",
       "</div>"
      ],
      "text/plain": [
       "         worldcity     megacity     latitude    longitude       pop_max  \\\n",
       "count  7343.000000  7343.000000  7343.000000  7343.000000  7.343000e+03   \n",
       "mean      0.009533     0.080349    20.496166    10.987582  3.218734e+05   \n",
       "std       0.097177     0.271851    29.263073    79.435193  1.066623e+06   \n",
       "min       0.000000     0.000000   -89.982894  -179.589979 -9.900000e+01   \n",
       "25%       0.000000     0.000000    -0.674573   -64.781974  1.947850e+04   \n",
       "50%       0.000000     0.000000    26.640298    18.699985  6.945100e+04   \n",
       "75%       0.000000     0.000000    43.532008    73.292415  2.297540e+05   \n",
       "max       1.000000     1.000000    82.483323   179.383304  3.567600e+07   \n",
       "\n",
       "            pop_min     pop_other  \n",
       "count  7.343000e+03  7.343000e+03  \n",
       "mean   2.078131e+05  4.137240e+05  \n",
       "std    6.414873e+05  1.258383e+06  \n",
       "min   -9.900000e+01  0.000000e+00  \n",
       "25%    1.337000e+04  0.000000e+00  \n",
       "50%    5.003200e+04  3.981700e+04  \n",
       "75%    1.634720e+05  2.230085e+05  \n",
       "max    1.460851e+07  2.145995e+07  "
      ]
     },
     "metadata": {},
     "output_type": "display_data"
    }
   ],
   "source": [
    "display(cities.head(3))\n",
    "display(cities.describe())"
   ]
  },
  {
   "cell_type": "code",
   "execution_count": 16,
   "metadata": {},
   "outputs": [
    {
     "data": {
      "text/plain": [
       "<AxesSubplot:>"
      ]
     },
     "execution_count": 16,
     "metadata": {},
     "output_type": "execute_result"
    },
    {
     "data": {
      "image/png": "[encoded data removed]",
      "text/plain": [
       "<Figure size 432x288 with 1 Axes>"
      ]
     },
     "metadata": {
      "needs_background": "light"
     },
     "output_type": "display_data"
    }
   ],
   "source": [
    "countries.plot()"
   ]
  },
  {
   "cell_type": "code",
   "execution_count": 17,
   "metadata": {},
   "outputs": [
    {
     "data": {
      "image/png": "[encoded data removed]",
      "text/plain": [
       "<Figure size 432x288 with 1 Axes>"
      ]
     },
     "metadata": {
      "needs_background": "light"
     },
     "output_type": "display_data"
    }
   ],
   "source": [
    "base = countries.plot(color='white', edgecolor='black')\n",
    "cities.plot(ax=base, marker='*', color='red', markersize=1);"
   ]
  }
 ],
 "metadata": {
  "kernelspec": {
   "display_name": "Python 3",
   "language": "python",
   "name": "python3"
  },
  "language_info": {
   "codemirror_mode": {
    "name": "ipython",
    "version": 3
   },
   "file_extension": ".py",
   "mimetype": "text/x-python",
   "name": "python",
   "nbconvert_exporter": "python",
   "pygments_lexer": "ipython3",
   "version": "3.10.5"
  },
  "orig_nbformat": 4,
  "vscode": {
   "interpreter": {
    "hash": "63616c9a2eb3dbba295b8d3ffb9670e5838f87e484b350fb074c59ae056a9af3"
   }
  }
 },
 "nbformat": 4,
 "nbformat_minor": 2
}
